{
 "cells": [
  {
   "cell_type": "code",
   "execution_count": 1,
   "metadata": {},
   "outputs": [],
   "source": [
    "#################### Data Processing ######################\n",
    "from numpy import array\n",
    "from keras.preprocessing.text import Tokenizer\n",
    "from keras.utils import to_categorical\n",
    "\n",
    "##################### Model building #####################\n",
    "from keras.models import Sequential\n",
    "from keras.layers import Dense\n",
    "from keras.layers import LSTM\n",
    "from keras.layers import Embedding"
   ]
  },
  {
   "cell_type": "code",
   "execution_count": 2,
   "metadata": {},
   "outputs": [
    {
     "data": {
      "text/plain": [
       "'California is a state in the Western United States. California borders Oregon to the north, Nevada and Arizona to the east, the Mexican state of Baja California to the south; and has a coastline along the Pacific Ocean to the west.'"
      ]
     },
     "execution_count": 2,
     "metadata": {},
     "output_type": "execute_result"
    }
   ],
   "source": [
    "data=\"California is a state in the Western United States. California borders Oregon to the north, Nevada and Arizona to the east, the Mexican state of Baja California to the south; and has a coastline along the Pacific Ocean to the west.\"\n",
    "\n",
    "data"
   ]
  },
  {
   "cell_type": "markdown",
   "metadata": {},
   "source": [
    "# Data Pre-Processing "
   ]
  },
  {
   "cell_type": "code",
   "execution_count": 3,
   "metadata": {},
   "outputs": [
    {
     "data": {
      "text/plain": [
       "'california is a state in the western united states. california borders oregon to the north, nevada and arizona to the east, the mexican state of baja california to the south; and has a coastline along the pacific ocean to the west.'"
      ]
     },
     "execution_count": 3,
     "metadata": {},
     "output_type": "execute_result"
    }
   ],
   "source": [
    "# cleaning the data\n",
    "data= data.lower()           # Converting the string to lower case to get uniformity\n",
    "data"
   ]
  },
  {
   "cell_type": "code",
   "execution_count": 4,
   "metadata": {},
   "outputs": [
    {
     "data": {
      "text/plain": [
       "'!\"#$%&\\'()*+,-./:;<=>?@[\\\\]^_`{|}~'"
      ]
     },
     "execution_count": 4,
     "metadata": {},
     "output_type": "execute_result"
    }
   ],
   "source": [
    "import string\n",
    "string.punctuation"
   ]
  },
  {
   "cell_type": "code",
   "execution_count": 5,
   "metadata": {},
   "outputs": [],
   "source": [
    "def remove_punctuation(text):\n",
    "    text_nopunt=\"\".join([c \n",
    "                         for c in text\n",
    "                         if c not in string.punctuation])\n",
    "    return text_nopunt"
   ]
  },
  {
   "cell_type": "code",
   "execution_count": 6,
   "metadata": {},
   "outputs": [
    {
     "data": {
      "text/plain": [
       "'california is a state in the western united states california borders oregon to the north nevada and arizona to the east the mexican state of baja california to the south and has a coastline along the pacific ocean to the west'"
      ]
     },
     "execution_count": 6,
     "metadata": {},
     "output_type": "execute_result"
    }
   ],
   "source": [
    "data=remove_punctuation(data)\n",
    "\n",
    "data"
   ]
  },
  {
   "cell_type": "code",
   "execution_count": 10,
   "metadata": {},
   "outputs": [
    {
     "name": "stderr",
     "output_type": "stream",
     "text": [
      "[nltk_data] Downloading package punkt to\n",
      "[nltk_data]     C:\\Users\\suvar\\AppData\\Roaming\\nltk_data...\n",
      "[nltk_data]   Unzipping tokenizers\\punkt.zip.\n"
     ]
    },
    {
     "data": {
      "text/plain": [
       "True"
      ]
     },
     "execution_count": 10,
     "metadata": {},
     "output_type": "execute_result"
    }
   ],
   "source": [
    "import nltk\n",
    "nltk.download('punkt')\n"
   ]
  },
  {
   "cell_type": "code",
   "execution_count": 11,
   "metadata": {},
   "outputs": [
    {
     "name": "stdout",
     "output_type": "stream",
     "text": [
      "Word Token:  \n",
      " ['california', 'is', 'a', 'state', 'in', 'the', 'western', 'united', 'states', 'california', 'borders', 'oregon', 'to', 'the', 'north', 'nevada', 'and', 'arizona', 'to', 'the', 'east', 'the', 'mexican', 'state', 'of', 'baja', 'california', 'to', 'the', 'south', 'and', 'has', 'a', 'coastline', 'along', 'the', 'pacific', 'ocean', 'to', 'the', 'west']\n"
     ]
    }
   ],
   "source": [
    "from nltk.corpus import stopwords\n",
    "from nltk.tokenize import word_tokenize\n",
    "\n",
    "stop_words = set(stopwords.words('english'))\n",
    "  \n",
    "text_tokens = word_tokenize(data)\n",
    "print(\"Word Token:  \\n\",text_tokens)"
   ]
  },
  {
   "cell_type": "code",
   "execution_count": 12,
   "metadata": {
    "scrolled": false
   },
   "outputs": [
    {
     "name": "stdout",
     "output_type": "stream",
     "text": [
      "Word Without StopWords:  \n",
      " ['california', 'state', 'western', 'united', 'states', 'california', 'borders', 'oregon', 'north', 'nevada', 'arizona', 'east', 'mexican', 'state', 'baja', 'california', 'south', 'coastline', 'pacific', 'ocean', 'west']\n"
     ]
    }
   ],
   "source": [
    "tokens_without_sw = [word \n",
    "                     for word in text_tokens \n",
    "                     if not word in stopwords.words()]\n",
    "print(\"Word Without StopWords:  \\n\",tokens_without_sw)"
   ]
  },
  {
   "cell_type": "code",
   "execution_count": 13,
   "metadata": {},
   "outputs": [
    {
     "data": {
      "text/plain": [
       "'california state western united states california borders oregon north nevada arizona east mexican state baja california south coastline pacific ocean west'"
      ]
     },
     "execution_count": 13,
     "metadata": {},
     "output_type": "execute_result"
    }
   ],
   "source": [
    "data = (\" \").join(tokens_without_sw)\n",
    "data"
   ]
  },
  {
   "cell_type": "code",
   "execution_count": 14,
   "metadata": {},
   "outputs": [
    {
     "data": {
      "text/plain": [
       "[1, 2, 3, 4, 5, 1, 6, 7, 8, 9, 10, 11, 12, 2, 13, 1, 14, 15, 16, 17, 18]"
      ]
     },
     "execution_count": 14,
     "metadata": {},
     "output_type": "execute_result"
    }
   ],
   "source": [
    "# Instantiating the Tokenizer\n",
    "tokenizer = Tokenizer()\n",
    "tokenizer.fit_on_texts([data])  ## convert sentance to word  \n",
    "sequence_data = tokenizer.texts_to_sequences([data])[0]  # mode concept for sequence \n",
    "sequence_data   "
   ]
  },
  {
   "cell_type": "code",
   "execution_count": 15,
   "metadata": {},
   "outputs": [
    {
     "name": "stdout",
     "output_type": "stream",
     "text": [
      "18\n"
     ]
    }
   ],
   "source": [
    "# Getting the total number of words of the data.\n",
    "word2idx = tokenizer.word_index  ####### index number to every token ro word \n",
    "print(len(word2idx))"
   ]
  },
  {
   "cell_type": "code",
   "execution_count": 16,
   "metadata": {},
   "outputs": [
    {
     "name": "stdout",
     "output_type": "stream",
     "text": [
      "{'california': 1, 'state': 2, 'western': 3, 'united': 4, 'states': 5, 'borders': 6, 'oregon': 7, 'north': 8, 'nevada': 9, 'arizona': 10, 'east': 11, 'mexican': 12, 'baja': 13, 'south': 14, 'coastline': 15, 'pacific': 16, 'ocean': 17, 'west': 18}\n"
     ]
    }
   ],
   "source": [
    "print(word2idx)"
   ]
  },
  {
   "cell_type": "code",
   "execution_count": 17,
   "metadata": {},
   "outputs": [
    {
     "name": "stdout",
     "output_type": "stream",
     "text": [
      "19\n"
     ]
    }
   ],
   "source": [
    "vocab_size = len(word2idx) + 1    ### Get unique words\n",
    "print(vocab_size)         # california = 0+1   "
   ]
  },
  {
   "cell_type": "code",
   "execution_count": 18,
   "metadata": {},
   "outputs": [
    {
     "data": {
      "text/plain": [
       "[1, 2, 3, 4, 5, 1, 6, 7, 8, 9, 10, 11, 12, 2, 13, 1, 14, 15, 16, 17, 18]"
      ]
     },
     "execution_count": 18,
     "metadata": {},
     "output_type": "execute_result"
    }
   ],
   "source": [
    "sequence_data"
   ]
  },
  {
   "cell_type": "code",
   "execution_count": 19,
   "metadata": {},
   "outputs": [
    {
     "name": "stdout",
     "output_type": "stream",
     "text": [
      "18\n"
     ]
    }
   ],
   "source": [
    "sequences = []  # empty list \n",
    "for i in range(3,len(sequence_data)): # i = 3 to 20 # sequence_data= count of words\n",
    "    abc=sequence_data[i-3:i+1] # 0,1\n",
    "    sequences.append(abc)\n",
    "\n",
    "print(len(sequences))"
   ]
  },
  {
   "cell_type": "code",
   "execution_count": 20,
   "metadata": {},
   "outputs": [
    {
     "data": {
      "text/plain": [
       "[[1, 2, 3, 4],\n",
       " [2, 3, 4, 5],\n",
       " [3, 4, 5, 1],\n",
       " [4, 5, 1, 6],\n",
       " [5, 1, 6, 7],\n",
       " [1, 6, 7, 8],\n",
       " [6, 7, 8, 9],\n",
       " [7, 8, 9, 10],\n",
       " [8, 9, 10, 11],\n",
       " [9, 10, 11, 12],\n",
       " [10, 11, 12, 2],\n",
       " [11, 12, 2, 13],\n",
       " [12, 2, 13, 1],\n",
       " [2, 13, 1, 14],\n",
       " [13, 1, 14, 15],\n",
       " [1, 14, 15, 16],\n",
       " [14, 15, 16, 17],\n",
       " [15, 16, 17, 18]]"
      ]
     },
     "execution_count": 20,
     "metadata": {},
     "output_type": "execute_result"
    }
   ],
   "source": [
    "sequences"
   ]
  },
  {
   "cell_type": "code",
   "execution_count": 21,
   "metadata": {},
   "outputs": [
    {
     "data": {
      "text/plain": [
       "array([[ 1,  2,  3,  4],\n",
       "       [ 2,  3,  4,  5],\n",
       "       [ 3,  4,  5,  1],\n",
       "       [ 4,  5,  1,  6],\n",
       "       [ 5,  1,  6,  7],\n",
       "       [ 1,  6,  7,  8],\n",
       "       [ 6,  7,  8,  9],\n",
       "       [ 7,  8,  9, 10],\n",
       "       [ 8,  9, 10, 11],\n",
       "       [ 9, 10, 11, 12],\n",
       "       [10, 11, 12,  2],\n",
       "       [11, 12,  2, 13],\n",
       "       [12,  2, 13,  1],\n",
       "       [ 2, 13,  1, 14],\n",
       "       [13,  1, 14, 15],\n",
       "       [ 1, 14, 15, 16],\n",
       "       [14, 15, 16, 17],\n",
       "       [15, 16, 17, 18]])"
      ]
     },
     "execution_count": 21,
     "metadata": {},
     "output_type": "execute_result"
    }
   ],
   "source": [
    "import numpy as np\n",
    "sequences=np.array(sequences)\n",
    "sequences"
   ]
  },
  {
   "cell_type": "code",
   "execution_count": 22,
   "metadata": {},
   "outputs": [],
   "source": [
    "X = []\n",
    "Y = []\n",
    "for i in sequences: \n",
    "    X.append(i[0:3])  # i = 0,1,2\n",
    "    Y.append(i[3])\n",
    "\n",
    "X = np.array(X)\n",
    "Y = np.array(Y)"
   ]
  },
  {
   "cell_type": "code",
   "execution_count": 23,
   "metadata": {},
   "outputs": [
    {
     "name": "stdout",
     "output_type": "stream",
     "text": [
      "Data [[1 2 3]\n",
      " [2 3 4]\n",
      " [3 4 5]\n",
      " [4 5 1]\n",
      " [5 1 6]]\n",
      "Response [4 5 1 6 7]\n"
     ]
    }
   ],
   "source": [
    "print(\"Data\" , X[:5])\n",
    "print(\"Response\" , Y[:5])"
   ]
  },
  {
   "cell_type": "code",
   "execution_count": 24,
   "metadata": {},
   "outputs": [
    {
     "data": {
      "text/plain": [
       "array([ 4,  5,  1,  6,  7,  8,  9, 10, 11, 12,  2, 13,  1, 14, 15, 16, 17,\n",
       "       18])"
      ]
     },
     "execution_count": 24,
     "metadata": {},
     "output_type": "execute_result"
    }
   ],
   "source": [
    "Y"
   ]
  },
  {
   "cell_type": "code",
   "execution_count": 25,
   "metadata": {},
   "outputs": [
    {
     "data": {
      "text/plain": [
       "array([[0., 0., 0., 0., 1., 0., 0., 0., 0., 0., 0., 0., 0., 0., 0., 0.,\n",
       "        0., 0., 0.],\n",
       "       [0., 0., 0., 0., 0., 1., 0., 0., 0., 0., 0., 0., 0., 0., 0., 0.,\n",
       "        0., 0., 0.],\n",
       "       [0., 1., 0., 0., 0., 0., 0., 0., 0., 0., 0., 0., 0., 0., 0., 0.,\n",
       "        0., 0., 0.],\n",
       "       [0., 0., 0., 0., 0., 0., 1., 0., 0., 0., 0., 0., 0., 0., 0., 0.,\n",
       "        0., 0., 0.],\n",
       "       [0., 0., 0., 0., 0., 0., 0., 1., 0., 0., 0., 0., 0., 0., 0., 0.,\n",
       "        0., 0., 0.]], dtype=float32)"
      ]
     },
     "execution_count": 25,
     "metadata": {},
     "output_type": "execute_result"
    }
   ],
   "source": [
    "Y=to_categorical(Y,num_classes=vocab_size)  # Matrix of Y  \n",
    "Y[:5]"
   ]
  },
  {
   "cell_type": "markdown",
   "metadata": {},
   "source": [
    "# Model Building"
   ]
  },
  {
   "cell_type": "code",
   "execution_count": 26,
   "metadata": {},
   "outputs": [],
   "source": [
    "model = Sequential()\n",
    "model.add(Embedding(vocab_size,10, input_length=3)) # data import\n",
    "model.add(LSTM(50,return_sequences=True)) # LSTM1\n",
    "model.add(LSTM(50))  # LSTM2\n",
    "model.add(Dense(50,activation='relu')) # HIDDEN LAYER\n",
    "model.add(Dense(vocab_size, activation='softmax'))"
   ]
  },
  {
   "cell_type": "code",
   "execution_count": 27,
   "metadata": {},
   "outputs": [
    {
     "name": "stdout",
     "output_type": "stream",
     "text": [
      "Model: \"sequential\"\n",
      "_________________________________________________________________\n",
      " Layer (type)                Output Shape              Param #   \n",
      "=================================================================\n",
      " embedding (Embedding)       (None, 3, 10)             190       \n",
      "                                                                 \n",
      " lstm (LSTM)                 (None, 3, 50)             12200     \n",
      "                                                                 \n",
      " lstm_1 (LSTM)               (None, 50)                20200     \n",
      "                                                                 \n",
      " dense (Dense)               (None, 50)                2550      \n",
      "                                                                 \n",
      " dense_1 (Dense)             (None, 19)                969       \n",
      "                                                                 \n",
      "=================================================================\n",
      "Total params: 36,109\n",
      "Trainable params: 36,109\n",
      "Non-trainable params: 0\n",
      "_________________________________________________________________\n"
     ]
    }
   ],
   "source": [
    "model.summary()"
   ]
  },
  {
   "cell_type": "code",
   "execution_count": 28,
   "metadata": {},
   "outputs": [],
   "source": [
    "model.compile(optimizer='adam',loss = 'categorical_crossentropy',metrics=['accuracy'])"
   ]
  },
  {
   "cell_type": "code",
   "execution_count": 29,
   "metadata": {},
   "outputs": [
    {
     "name": "stdout",
     "output_type": "stream",
     "text": [
      "Epoch 1/100\n",
      "1/1 [==============================] - 8s 8s/step - loss: 2.9443 - accuracy: 0.1667\n",
      "Epoch 2/100\n",
      "1/1 [==============================] - 0s 24ms/step - loss: 2.9433 - accuracy: 0.2778\n",
      "Epoch 3/100\n",
      "1/1 [==============================] - 0s 16ms/step - loss: 2.9423 - accuracy: 0.2222\n",
      "Epoch 4/100\n",
      "1/1 [==============================] - 0s 16ms/step - loss: 2.9414 - accuracy: 0.1667\n",
      "Epoch 5/100\n",
      "1/1 [==============================] - 0s 12ms/step - loss: 2.9404 - accuracy: 0.1111\n",
      "Epoch 6/100\n",
      "1/1 [==============================] - 0s 16ms/step - loss: 2.9394 - accuracy: 0.1111\n",
      "Epoch 7/100\n",
      "1/1 [==============================] - 0s 15ms/step - loss: 2.9383 - accuracy: 0.1111\n",
      "Epoch 8/100\n",
      "1/1 [==============================] - 0s 9ms/step - loss: 2.9373 - accuracy: 0.1111\n",
      "Epoch 9/100\n",
      "1/1 [==============================] - 0s 10ms/step - loss: 2.9361 - accuracy: 0.1111\n",
      "Epoch 10/100\n",
      "1/1 [==============================] - 0s 17ms/step - loss: 2.9349 - accuracy: 0.1111\n",
      "Epoch 11/100\n",
      "1/1 [==============================] - 0s 16ms/step - loss: 2.9336 - accuracy: 0.1111\n",
      "Epoch 12/100\n",
      "1/1 [==============================] - 0s 16ms/step - loss: 2.9323 - accuracy: 0.1111\n",
      "Epoch 13/100\n",
      "1/1 [==============================] - 0s 16ms/step - loss: 2.9309 - accuracy: 0.1111\n",
      "Epoch 14/100\n",
      "1/1 [==============================] - 0s 14ms/step - loss: 2.9294 - accuracy: 0.1111\n",
      "Epoch 15/100\n",
      "1/1 [==============================] - 0s 16ms/step - loss: 2.9278 - accuracy: 0.1111\n",
      "Epoch 16/100\n",
      "1/1 [==============================] - 0s 11ms/step - loss: 2.9261 - accuracy: 0.1111\n",
      "Epoch 17/100\n",
      "1/1 [==============================] - 0s 14ms/step - loss: 2.9244 - accuracy: 0.1111\n",
      "Epoch 18/100\n",
      "1/1 [==============================] - 0s 12ms/step - loss: 2.9225 - accuracy: 0.1111\n",
      "Epoch 19/100\n",
      "1/1 [==============================] - 0s 17ms/step - loss: 2.9204 - accuracy: 0.1111\n",
      "Epoch 20/100\n",
      "1/1 [==============================] - 0s 15ms/step - loss: 2.9182 - accuracy: 0.1111\n",
      "Epoch 21/100\n",
      "1/1 [==============================] - 0s 16ms/step - loss: 2.9159 - accuracy: 0.1111\n",
      "Epoch 22/100\n",
      "1/1 [==============================] - 0s 14ms/step - loss: 2.9134 - accuracy: 0.1111\n",
      "Epoch 23/100\n",
      "1/1 [==============================] - 0s 20ms/step - loss: 2.9107 - accuracy: 0.1111\n",
      "Epoch 24/100\n",
      "1/1 [==============================] - 0s 11ms/step - loss: 2.9078 - accuracy: 0.1111\n",
      "Epoch 25/100\n",
      "1/1 [==============================] - 0s 17ms/step - loss: 2.9048 - accuracy: 0.1111\n",
      "Epoch 26/100\n",
      "1/1 [==============================] - 0s 17ms/step - loss: 2.9014 - accuracy: 0.1111\n",
      "Epoch 27/100\n",
      "1/1 [==============================] - 0s 17ms/step - loss: 2.8978 - accuracy: 0.1111\n",
      "Epoch 28/100\n",
      "1/1 [==============================] - 0s 16ms/step - loss: 2.8939 - accuracy: 0.1111\n",
      "Epoch 29/100\n",
      "1/1 [==============================] - 0s 12ms/step - loss: 2.8897 - accuracy: 0.1111\n",
      "Epoch 30/100\n",
      "1/1 [==============================] - 0s 11ms/step - loss: 2.8851 - accuracy: 0.1111\n",
      "Epoch 31/100\n",
      "1/1 [==============================] - 0s 15ms/step - loss: 2.8801 - accuracy: 0.1111\n",
      "Epoch 32/100\n",
      "1/1 [==============================] - 0s 17ms/step - loss: 2.8748 - accuracy: 0.1111\n",
      "Epoch 33/100\n",
      "1/1 [==============================] - 0s 20ms/step - loss: 2.8689 - accuracy: 0.1111\n",
      "Epoch 34/100\n",
      "1/1 [==============================] - 0s 16ms/step - loss: 2.8625 - accuracy: 0.1111\n",
      "Epoch 35/100\n",
      "1/1 [==============================] - 0s 12ms/step - loss: 2.8556 - accuracy: 0.1111\n",
      "Epoch 36/100\n",
      "1/1 [==============================] - 0s 19ms/step - loss: 2.8480 - accuracy: 0.1111\n",
      "Epoch 37/100\n",
      "1/1 [==============================] - 0s 13ms/step - loss: 2.8397 - accuracy: 0.1111\n",
      "Epoch 38/100\n",
      "1/1 [==============================] - 0s 13ms/step - loss: 2.8307 - accuracy: 0.1111\n",
      "Epoch 39/100\n",
      "1/1 [==============================] - 0s 19ms/step - loss: 2.8209 - accuracy: 0.1111\n",
      "Epoch 40/100\n",
      "1/1 [==============================] - 0s 16ms/step - loss: 2.8101 - accuracy: 0.1111\n",
      "Epoch 41/100\n",
      "1/1 [==============================] - 0s 12ms/step - loss: 2.7983 - accuracy: 0.1111\n",
      "Epoch 42/100\n",
      "1/1 [==============================] - 0s 18ms/step - loss: 2.7854 - accuracy: 0.1111\n",
      "Epoch 43/100\n",
      "1/1 [==============================] - 0s 16ms/step - loss: 2.7713 - accuracy: 0.1111\n",
      "Epoch 44/100\n",
      "1/1 [==============================] - 0s 11ms/step - loss: 2.7559 - accuracy: 0.1111\n",
      "Epoch 45/100\n",
      "1/1 [==============================] - 0s 17ms/step - loss: 2.7389 - accuracy: 0.1111\n",
      "Epoch 46/100\n",
      "1/1 [==============================] - 0s 17ms/step - loss: 2.7205 - accuracy: 0.1667\n",
      "Epoch 47/100\n",
      "1/1 [==============================] - 0s 11ms/step - loss: 2.7003 - accuracy: 0.1667\n",
      "Epoch 48/100\n",
      "1/1 [==============================] - 0s 13ms/step - loss: 2.6783 - accuracy: 0.1667\n",
      "Epoch 49/100\n",
      "1/1 [==============================] - 0s 16ms/step - loss: 2.6544 - accuracy: 0.1667\n",
      "Epoch 50/100\n",
      "1/1 [==============================] - 0s 8ms/step - loss: 2.6286 - accuracy: 0.1667\n",
      "Epoch 51/100\n",
      "1/1 [==============================] - 0s 16ms/step - loss: 2.6011 - accuracy: 0.1667\n",
      "Epoch 52/100\n",
      "1/1 [==============================] - 0s 16ms/step - loss: 2.5718 - accuracy: 0.1667\n",
      "Epoch 53/100\n",
      "1/1 [==============================] - 0s 8ms/step - loss: 2.5410 - accuracy: 0.1667\n",
      "Epoch 54/100\n",
      "1/1 [==============================] - 0s 6ms/step - loss: 2.5089 - accuracy: 0.1667\n",
      "Epoch 55/100\n",
      "1/1 [==============================] - 0s 8ms/step - loss: 2.4754 - accuracy: 0.1667\n",
      "Epoch 56/100\n",
      "1/1 [==============================] - 0s 12ms/step - loss: 2.4409 - accuracy: 0.1667\n",
      "Epoch 57/100\n",
      "1/1 [==============================] - 0s 12ms/step - loss: 2.4061 - accuracy: 0.1667\n",
      "Epoch 58/100\n",
      "1/1 [==============================] - 0s 9ms/step - loss: 2.3710 - accuracy: 0.2222\n",
      "Epoch 59/100\n",
      "1/1 [==============================] - 0s 11ms/step - loss: 2.3359 - accuracy: 0.2222\n",
      "Epoch 60/100\n",
      "1/1 [==============================] - 0s 15ms/step - loss: 2.3017 - accuracy: 0.2222\n",
      "Epoch 61/100\n",
      "1/1 [==============================] - 0s 16ms/step - loss: 2.2681 - accuracy: 0.1667\n",
      "Epoch 62/100\n",
      "1/1 [==============================] - 0s 11ms/step - loss: 2.2360 - accuracy: 0.1667\n",
      "Epoch 63/100\n",
      "1/1 [==============================] - 0s 14ms/step - loss: 2.2045 - accuracy: 0.1667\n",
      "Epoch 64/100\n",
      "1/1 [==============================] - 0s 10ms/step - loss: 2.1734 - accuracy: 0.1667\n",
      "Epoch 65/100\n",
      "1/1 [==============================] - 0s 10ms/step - loss: 2.1420 - accuracy: 0.1667\n",
      "Epoch 66/100\n",
      "1/1 [==============================] - 0s 9ms/step - loss: 2.1101 - accuracy: 0.1667\n",
      "Epoch 67/100\n",
      "1/1 [==============================] - 0s 16ms/step - loss: 2.0781 - accuracy: 0.2222\n",
      "Epoch 68/100\n",
      "1/1 [==============================] - 0s 15ms/step - loss: 2.0460 - accuracy: 0.2222\n",
      "Epoch 69/100\n",
      "1/1 [==============================] - 0s 8ms/step - loss: 2.0146 - accuracy: 0.2222\n",
      "Epoch 70/100\n",
      "1/1 [==============================] - 0s 10ms/step - loss: 1.9835 - accuracy: 0.2778\n",
      "Epoch 71/100\n",
      "1/1 [==============================] - 0s 6ms/step - loss: 1.9527 - accuracy: 0.3333\n",
      "Epoch 72/100\n",
      "1/1 [==============================] - 0s 8ms/step - loss: 1.9219 - accuracy: 0.3333\n",
      "Epoch 73/100\n",
      "1/1 [==============================] - 0s 16ms/step - loss: 1.8914 - accuracy: 0.3333\n",
      "Epoch 74/100\n",
      "1/1 [==============================] - 0s 9ms/step - loss: 1.8610 - accuracy: 0.3333\n",
      "Epoch 75/100\n",
      "1/1 [==============================] - 0s 12ms/step - loss: 1.8309 - accuracy: 0.3333\n",
      "Epoch 76/100\n",
      "1/1 [==============================] - 0s 8ms/step - loss: 1.8012 - accuracy: 0.4444\n",
      "Epoch 77/100\n",
      "1/1 [==============================] - 0s 11ms/step - loss: 1.7716 - accuracy: 0.5556\n",
      "Epoch 78/100\n",
      "1/1 [==============================] - 0s 13ms/step - loss: 1.7416 - accuracy: 0.6111\n",
      "Epoch 79/100\n",
      "1/1 [==============================] - 0s 8ms/step - loss: 1.7116 - accuracy: 0.6111\n",
      "Epoch 80/100\n",
      "1/1 [==============================] - 0s 20ms/step - loss: 1.6817 - accuracy: 0.6111\n",
      "Epoch 81/100\n",
      "1/1 [==============================] - 0s 13ms/step - loss: 1.6515 - accuracy: 0.6111\n",
      "Epoch 82/100\n",
      "1/1 [==============================] - 0s 15ms/step - loss: 1.6221 - accuracy: 0.5556\n",
      "Epoch 83/100\n",
      "1/1 [==============================] - 0s 7ms/step - loss: 1.5933 - accuracy: 0.5556\n",
      "Epoch 84/100\n"
     ]
    },
    {
     "name": "stdout",
     "output_type": "stream",
     "text": [
      "1/1 [==============================] - 0s 8ms/step - loss: 1.5646 - accuracy: 0.5556\n",
      "Epoch 85/100\n",
      "1/1 [==============================] - 0s 16ms/step - loss: 1.5366 - accuracy: 0.5556\n",
      "Epoch 86/100\n",
      "1/1 [==============================] - 0s 11ms/step - loss: 1.5088 - accuracy: 0.5556\n",
      "Epoch 87/100\n",
      "1/1 [==============================] - 0s 8ms/step - loss: 1.4813 - accuracy: 0.5556\n",
      "Epoch 88/100\n",
      "1/1 [==============================] - 0s 17ms/step - loss: 1.4535 - accuracy: 0.6111\n",
      "Epoch 89/100\n",
      "1/1 [==============================] - 0s 17ms/step - loss: 1.4254 - accuracy: 0.6111\n",
      "Epoch 90/100\n",
      "1/1 [==============================] - 0s 8ms/step - loss: 1.3970 - accuracy: 0.6111\n",
      "Epoch 91/100\n",
      "1/1 [==============================] - 0s 8ms/step - loss: 1.3691 - accuracy: 0.6111\n",
      "Epoch 92/100\n",
      "1/1 [==============================] - 0s 8ms/step - loss: 1.3418 - accuracy: 0.6667\n",
      "Epoch 93/100\n",
      "1/1 [==============================] - 0s 19ms/step - loss: 1.3145 - accuracy: 0.6667\n",
      "Epoch 94/100\n",
      "1/1 [==============================] - 0s 10ms/step - loss: 1.2876 - accuracy: 0.6111\n",
      "Epoch 95/100\n",
      "1/1 [==============================] - 0s 13ms/step - loss: 1.2612 - accuracy: 0.7222\n",
      "Epoch 96/100\n",
      "1/1 [==============================] - 0s 13ms/step - loss: 1.2341 - accuracy: 0.7222\n",
      "Epoch 97/100\n",
      "1/1 [==============================] - 0s 13ms/step - loss: 1.2074 - accuracy: 0.7222\n",
      "Epoch 98/100\n",
      "1/1 [==============================] - 0s 4ms/step - loss: 1.1809 - accuracy: 0.6667\n",
      "Epoch 99/100\n",
      "1/1 [==============================] - 0s 7ms/step - loss: 1.1558 - accuracy: 0.6111\n",
      "Epoch 100/100\n",
      "1/1 [==============================] - 0s 8ms/step - loss: 1.1306 - accuracy: 0.6111\n"
     ]
    }
   ],
   "source": [
    "r = model.fit(X,Y,epochs=100)"
   ]
  },
  {
   "cell_type": "markdown",
   "metadata": {},
   "source": [
    "# Future Word Prediction\n",
    "\n",
    "#### Describe\n",
    "* Model = model we build\n",
    "* tokenizer = Breaking into Word\n",
    "* enter_text = input user give"
   ]
  },
  {
   "cell_type": "code",
   "execution_count": 30,
   "metadata": {},
   "outputs": [
    {
     "name": "stdout",
     "output_type": "stream",
     "text": [
      "california 1\n",
      "state 2\n",
      "western 3\n",
      "united 4\n",
      "states 5\n",
      "borders 6\n",
      "oregon 7\n",
      "north 8\n",
      "nevada 9\n",
      "arizona 10\n",
      "east 11\n",
      "mexican 12\n",
      "baja 13\n",
      "south 14\n",
      "coastline 15\n",
      "pacific 16\n",
      "ocean 17\n",
      "west 18\n"
     ]
    }
   ],
   "source": [
    "for word, index in tokenizer.word_index.items():\n",
    "    print(word,index)"
   ]
  },
  {
   "cell_type": "code",
   "execution_count": 31,
   "metadata": {},
   "outputs": [
    {
     "name": "stdout",
     "output_type": "stream",
     "text": [
      "1/1 [==============================] - 1s 1s/step\n"
     ]
    },
    {
     "data": {
      "text/plain": [
       "16"
      ]
     },
     "execution_count": 31,
     "metadata": {},
     "output_type": "execute_result"
    }
   ],
   "source": [
    "enter_text='states california borders'\n",
    "encoded = tokenizer.texts_to_sequences([enter_text]) \n",
    "encoded = np.array(encoded) # [3]\n",
    "predicted= np.argmax(model.predict(encoded))  # input = 3 # prediction = 4  \n",
    "predicted"
   ]
  },
  {
   "cell_type": "code",
   "execution_count": 32,
   "metadata": {},
   "outputs": [],
   "source": [
    "def Predict_Next_Words(model,tokenizer,enter_text):\n",
    "        encoded = tokenizer.texts_to_sequences([enter_text]) # in_text = Western = 3 \n",
    "        encoded = np.array(encoded) # [3]\n",
    "        predicted= np.argmax(model.predict(encoded))  # input = 3 # prediction = 4  \n",
    "        predicted_word=''\n",
    "        for word, index in tokenizer.word_index.items():\n",
    "            if  index==predicted:    # Predicted  7 = Index 7\n",
    "                predicted_word = word      # word = OREGON\n",
    "                break\n",
    "        result=enter_text + ' ' + predicted_word\n",
    "        return result"
   ]
  },
  {
   "cell_type": "code",
   "execution_count": 33,
   "metadata": {},
   "outputs": [
    {
     "data": {
      "text/plain": [
       "'california state western united states california borders oregon north nevada arizona east mexican state baja california south coastline pacific ocean west'"
      ]
     },
     "execution_count": 33,
     "metadata": {},
     "output_type": "execute_result"
    }
   ],
   "source": [
    "data"
   ]
  },
  {
   "cell_type": "code",
   "execution_count": 34,
   "metadata": {
    "scrolled": true
   },
   "outputs": [
    {
     "name": "stdout",
     "output_type": "stream",
     "text": [
      "1/1 [==============================] - 0s 47ms/step\n",
      "states california borders pacific\n"
     ]
    }
   ],
   "source": [
    "print(Predict_Next_Words(model,tokenizer,'states california borders'))"
   ]
  },
  {
   "cell_type": "code",
   "execution_count": 35,
   "metadata": {
    "scrolled": false
   },
   "outputs": [
    {
     "name": "stdout",
     "output_type": "stream",
     "text": [
      "1/1 [==============================] - 0s 32ms/step\n",
      "california borders oregon north\n"
     ]
    }
   ],
   "source": [
    "print(Predict_Next_Words(model,tokenizer,'california borders oregon'))"
   ]
  },
  {
   "cell_type": "code",
   "execution_count": 36,
   "metadata": {
    "scrolled": false
   },
   "outputs": [
    {
     "name": "stdout",
     "output_type": "stream",
     "text": [
      "1/1 [==============================] - 0s 31ms/step\n",
      "borders oregon north nevada\n"
     ]
    }
   ],
   "source": [
    "print(Predict_Next_Words(model,tokenizer,'borders oregon north'))"
   ]
  },
  {
   "cell_type": "code",
   "execution_count": 37,
   "metadata": {
    "scrolled": true
   },
   "outputs": [
    {
     "name": "stdout",
     "output_type": "stream",
     "text": [
      "1/1 [==============================] - 0s 31ms/step\n",
      "oregon north nevada  north\n"
     ]
    }
   ],
   "source": [
    "print(Predict_Next_Words(model,tokenizer,'oregon north nevada '))"
   ]
  },
  {
   "cell_type": "markdown",
   "metadata": {},
   "source": [
    "# Finished"
   ]
  }
 ],
 "metadata": {
  "kernelspec": {
   "display_name": "Python 3 (ipykernel)",
   "language": "python",
   "name": "python3"
  },
  "language_info": {
   "codemirror_mode": {
    "name": "ipython",
    "version": 3
   },
   "file_extension": ".py",
   "mimetype": "text/x-python",
   "name": "python",
   "nbconvert_exporter": "python",
   "pygments_lexer": "ipython3",
   "version": "3.9.12"
  }
 },
 "nbformat": 4,
 "nbformat_minor": 4
}
